{
 "cells": [
  {
   "cell_type": "markdown",
   "metadata": {
    "id": "IcRzA0tTTPUz"
   },
   "source": [
    "### Next Word Prediction Model Using Deep Learning and Neural Networks\n",
    "\n",
    "Keyboards are our part of life. We use it in every computing environment. To reduce our effort in typing, most of the keyboards today give advanced prediction facilities. It predicts the next character, or next word or even it can autocomplete the entire sentence. A preloaded data is stored in the keyboard function of our smartphones to predict the next word correctly. Google also uses next word prediction based on our browsing history. \n",
    "\n",
    "So let’s discuss a few techniques to build a simple next word prediction keyboard app.\n",
    "* We use the **Recurrent Neural Network** for this purpose. This model was chosen because it provides a way to examine the previous input. **LSTM**, a special kind of **RNN** is also used for this purpose. The **LSTM** provides the mechanism to preserve the errors that can be backpropagated through time and layers which helps to reduce **vanishing gradient** problem."
   ]
  },
  {
   "cell_type": "code",
   "execution_count": 1,
   "metadata": {
    "id": "NKCOqzXTTPU2"
   },
   "outputs": [],
   "source": [
    "import numpy as np\n",
    "from nltk.tokenize import RegexpTokenizer\n",
    "from tensorflow.keras.models import Sequential, load_model\n",
    "from tensorflow.keras.layers import LSTM\n",
    "from tensorflow.keras.layers import Dense, Activation\n",
    "from tensorflow.keras.optimizers import RMSprop\n",
    "import matplotlib.pyplot as plt\n",
    "import pickle\n",
    "import heapq"
   ]
  },
  {
   "cell_type": "code",
   "execution_count": 4,
   "metadata": {
    "colab": {
     "base_uri": "https://localhost:8080/"
    },
    "id": "Y-dOjOniUCwt",
    "outputId": "3ae3a90d-3dd4-46a2-ed07-587adc8bcb1b"
   },
   "outputs": [
    {
     "name": "stdout",
     "output_type": "stream",
     "text": [
      "Drive already mounted at /content/drive; to attempt to forcibly remount, call drive.mount(\"/content/drive\", force_remount=True).\n"
     ]
    }
   ],
   "source": [
    "# Load the Drive helper and mount\n",
    "from google.colab import drive\n",
    "drive.mount('/content/drive')"
   ]
  },
  {
   "cell_type": "markdown",
   "metadata": {},
   "source": [
    "Loading the dataset is the next important step to be done, here we use [The Adventures of Sherlock Holmes](https://www.gutenberg.org/files/1661/1661-0.txt) as the dataset."
   ]
  },
  {
   "cell_type": "code",
   "execution_count": 6,
   "metadata": {
    "colab": {
     "base_uri": "https://localhost:8080/"
    },
    "id": "lb_th8bHTPU3",
    "outputId": "72d3fb1d-59e0-40ae-94fb-129916eb171c"
   },
   "outputs": [
    {
     "name": "stdout",
     "output_type": "stream",
     "text": [
      "corpus length: 581888\n"
     ]
    }
   ],
   "source": [
    "# Now let’s load the data and have a quick look at what we are going to work with:\n",
    "\n",
    "path = '1661-0.txt'\n",
    "text = open(path, encoding = \"utf-8\").read().lower()\n",
    "print('corpus length:', len(text))\n",
    "path = '1661-0.txt'"
   ]
  },
  {
   "cell_type": "markdown",
   "metadata": {
    "id": "bmCSqlM6TPU5"
   },
   "source": [
    "Now, we want to split the entire dataset into each word in order without the presence of special characters."
   ]
  },
  {
   "cell_type": "code",
   "execution_count": 7,
   "metadata": {
    "id": "HLuzocQpTPU5"
   },
   "outputs": [],
   "source": [
    "tokenizer = RegexpTokenizer(r'\\w+')\n",
    "words = tokenizer.tokenize(text)"
   ]
  },
  {
   "cell_type": "code",
   "execution_count": 46,
   "metadata": {
    "colab": {
     "base_uri": "https://localhost:8080/"
    },
    "id": "_ZzalVEHkClM",
    "outputId": "63841c2a-1ac8-4dd2-f786-76a852365a34"
   },
   "outputs": [
    {
     "data": {
      "text/plain": [
       "109226"
      ]
     },
     "execution_count": 46,
     "metadata": {
      "tags": []
     },
     "output_type": "execute_result"
    }
   ],
   "source": [
    "len(words)"
   ]
  },
  {
   "cell_type": "code",
   "execution_count": 8,
   "metadata": {
    "colab": {
     "base_uri": "https://localhost:8080/"
    },
    "id": "xDJU7edZTPU6",
    "outputId": "d7f4d57f-e8c9-48e5-d5d8-052b21cf316d"
   },
   "outputs": [
    {
     "name": "stdout",
     "output_type": "stream",
     "text": [
      "['project', 'gutenberg', 's', 'the', 'adventures', 'of', 'sherlock', 'holmes', 'by', 'arthur']\n"
     ]
    }
   ],
   "source": [
    "print(words[:10])"
   ]
  },
  {
   "cell_type": "markdown",
   "metadata": {
    "id": "3BzWitvmTPU7"
   },
   "source": [
    "Next step is to perform feature engineering in our data. For this purpose, we will require a dictionary with each word in the data within the list of unique words as the key, and it’s significant portions as value."
   ]
  },
  {
   "cell_type": "code",
   "execution_count": 9,
   "metadata": {
    "id": "GaeMCkGiTPU8"
   },
   "outputs": [],
   "source": [
    "unique_words = np.unique(words)\n",
    "unique_word_index = dict((v, i) for i, v in enumerate(unique_words))"
   ]
  },
  {
   "cell_type": "markdown",
   "metadata": {
    "id": "LkM_HZcqTPU8"
   },
   "source": [
    "### Feature Engineering\n",
    "\n",
    "Next, for the feature engineering part, we need to have the unique sorted words list. We also need a dictionary(<key: value>) with each word form the `unique_words` list as key and its corresponding position as value.\n",
    "\n",
    "According to Wikipedia, Feature engineering is the process of using domain knowledge of the data to create features that make machine learning algorithms work. Feature engineering is fundamental to the application of machine learning and is both difficult and expensive.\n",
    "\n",
    "We define a `WORD_LENGTH` which means that the number of previous words that determines the next word. Also, we create an empty list called `prev_words` to store a set of five previous words and its corresponding next word in the `next_words` list. We fill these lists by looping over a range of `5` less than the length of words."
   ]
  },
  {
   "cell_type": "code",
   "execution_count": 10,
   "metadata": {
    "id": "oLFK94kITPU-"
   },
   "outputs": [],
   "source": [
    "WORD_LENGTH = 5\n",
    "prev_words = []\n",
    "next_words = []\n",
    "\n",
    "for i in range(len(words) - WORD_LENGTH):\n",
    "    prev_words.append(words[i:i + WORD_LENGTH])\n",
    "    next_words.append(words[i + WORD_LENGTH])"
   ]
  },
  {
   "cell_type": "code",
   "execution_count": 11,
   "metadata": {
    "colab": {
     "base_uri": "https://localhost:8080/"
    },
    "id": "AHK7Wt5STPVA",
    "outputId": "627c403e-c674-432b-a743-f8c00eda1a59"
   },
   "outputs": [
    {
     "name": "stdout",
     "output_type": "stream",
     "text": [
      "['project', 'gutenberg', 's', 'the', 'adventures']\n",
      "of\n"
     ]
    }
   ],
   "source": [
    "print(prev_words[0])\n",
    "print(next_words[0])"
   ]
  },
  {
   "cell_type": "markdown",
   "metadata": {
    "id": "Wb13ojJaTPVB"
   },
   "source": [
    "Now, its time to generate feature vectors. For generating feature vector we use **one-hot encoding**.\n",
    "\n",
    "Here, we create two numpy array;\n",
    "* `X` (for storing the features) and \n",
    "* `Y` (for storing the corresponding label(here, next word)).\n",
    "\n",
    "We iterate `X` and `Y` if the word is present then the corresponding position is made 1."
   ]
  },
  {
   "cell_type": "code",
   "execution_count": 12,
   "metadata": {
    "id": "BlYVhcr7TPVB"
   },
   "outputs": [],
   "source": [
    "X = np.zeros((len(prev_words), WORD_LENGTH, len(unique_words)), dtype=bool)\n",
    "Y = np.zeros((len(next_words), len(unique_words)), dtype=bool)"
   ]
  },
  {
   "cell_type": "code",
   "execution_count": 13,
   "metadata": {
    "colab": {
     "base_uri": "https://localhost:8080/"
    },
    "id": "DFSUx5rkTPVC",
    "outputId": "008d6b2b-0183-4536-b7b8-5a1e74c205f6"
   },
   "outputs": [
    {
     "name": "stdout",
     "output_type": "stream",
     "text": [
      "(109221, 5, 8201)\n",
      "(109221, 8201)\n"
     ]
    }
   ],
   "source": [
    "print(X.shape)\n",
    "print(Y.shape)"
   ]
  },
  {
   "cell_type": "code",
   "execution_count": 14,
   "metadata": {
    "id": "67kh7Y0cTPVD"
   },
   "outputs": [],
   "source": [
    "for i, each_words in enumerate(prev_words):\n",
    "    for j, each_word in enumerate(each_words):\n",
    "        X[i, j, unique_word_index[each_word]] = 1\n",
    "    Y[i, unique_word_index[next_words[i]]] = 1"
   ]
  },
  {
   "cell_type": "markdown",
   "metadata": {},
   "source": [
    "Let’s look at a single sequence:"
   ]
  },
  {
   "cell_type": "code",
   "execution_count": 15,
   "metadata": {
    "colab": {
     "base_uri": "https://localhost:8080/"
    },
    "id": "X2XrNPS4TPVD",
    "outputId": "ccd81e10-cde4-43d3-9527-8d3acc0e17cc"
   },
   "outputs": [
    {
     "name": "stdout",
     "output_type": "stream",
     "text": [
      "[False False False ... False False False]\n"
     ]
    }
   ],
   "source": [
    "print(X[0][0])"
   ]
  },
  {
   "cell_type": "markdown",
   "metadata": {},
   "source": [
    "### Building the model\n",
    "We use a single-layer `LSTM` model with `128 neurons`, a fully connected layer, and a `softmax` function for activation"
   ]
  },
  {
   "cell_type": "code",
   "execution_count": 16,
   "metadata": {
    "id": "td1f2kn_TPVE"
   },
   "outputs": [],
   "source": [
    "# Building Recurrent Neural network\n",
    "# LSTM model, which is a very powerful RNN.\n",
    "\n",
    "model = Sequential()\n",
    "model.add(LSTM(128, input_shape=(WORD_LENGTH, len(unique_words))))\n",
    "model.add(Dense(len(unique_words)))\n",
    "model.add(Activation('softmax'))"
   ]
  },
  {
   "cell_type": "markdown",
   "metadata": {},
   "source": [
    "### Training\n",
    "The model will be trained with `20` **epochs** with an `RMSprop` **optimizer**."
   ]
  },
  {
   "cell_type": "code",
   "execution_count": 28,
   "metadata": {
    "colab": {
     "base_uri": "https://localhost:8080/"
    },
    "id": "aSdtom6jTPVE",
    "outputId": "99d1f7a1-4c7b-40ed-c118-a10263366d2c"
   },
   "outputs": [
    {
     "name": "stderr",
     "output_type": "stream",
     "text": [
      "/usr/local/lib/python3.7/dist-packages/tensorflow/python/keras/optimizer_v2/optimizer_v2.py:375: UserWarning: The `lr` argument is deprecated, use `learning_rate` instead.\n",
      "  \"The `lr` argument is deprecated, use `learning_rate` instead.\")\n"
     ]
    },
    {
     "name": "stdout",
     "output_type": "stream",
     "text": [
      "Epoch 1/20\n",
      "811/811 [==============================] - 13s 14ms/step - loss: 3.4129 - accuracy: 0.6196 - val_loss: 9.7275 - val_accuracy: 0.0643\n",
      "Epoch 2/20\n",
      "811/811 [==============================] - 11s 14ms/step - loss: 3.3064 - accuracy: 0.6283 - val_loss: 9.7585 - val_accuracy: 0.0633\n",
      "Epoch 3/20\n",
      "811/811 [==============================] - 11s 14ms/step - loss: 3.2698 - accuracy: 0.6354 - val_loss: 9.8585 - val_accuracy: 0.0632\n",
      "Epoch 4/20\n",
      "811/811 [==============================] - 11s 14ms/step - loss: 3.2503 - accuracy: 0.6410 - val_loss: 9.8144 - val_accuracy: 0.0633\n",
      "Epoch 5/20\n",
      "811/811 [==============================] - 11s 14ms/step - loss: 3.2270 - accuracy: 0.6434 - val_loss: 9.9443 - val_accuracy: 0.0602\n",
      "Epoch 6/20\n",
      "811/811 [==============================] - 11s 14ms/step - loss: 3.2089 - accuracy: 0.6470 - val_loss: 9.8483 - val_accuracy: 0.0619\n",
      "Epoch 7/20\n",
      "811/811 [==============================] - 11s 14ms/step - loss: 3.1865 - accuracy: 0.6507 - val_loss: 9.9071 - val_accuracy: 0.0621\n",
      "Epoch 8/20\n",
      "811/811 [==============================] - 11s 14ms/step - loss: 3.1750 - accuracy: 0.6540 - val_loss: 9.8824 - val_accuracy: 0.0613\n",
      "Epoch 9/20\n",
      "811/811 [==============================] - 12s 14ms/step - loss: 3.1558 - accuracy: 0.6564 - val_loss: 9.8106 - val_accuracy: 0.0624\n",
      "Epoch 10/20\n",
      "811/811 [==============================] - 11s 14ms/step - loss: 3.1392 - accuracy: 0.6589 - val_loss: 10.0673 - val_accuracy: 0.0577\n",
      "Epoch 11/20\n",
      "811/811 [==============================] - 11s 14ms/step - loss: 3.1233 - accuracy: 0.6608 - val_loss: 9.9497 - val_accuracy: 0.0597\n",
      "Epoch 12/20\n",
      "811/811 [==============================] - 11s 14ms/step - loss: 3.1179 - accuracy: 0.6625 - val_loss: 9.8810 - val_accuracy: 0.0586\n",
      "Epoch 13/20\n",
      "811/811 [==============================] - 11s 14ms/step - loss: 3.1053 - accuracy: 0.6660 - val_loss: 9.8879 - val_accuracy: 0.0622\n",
      "Epoch 14/20\n",
      "811/811 [==============================] - 11s 14ms/step - loss: 3.0920 - accuracy: 0.6670 - val_loss: 9.8984 - val_accuracy: 0.0604\n",
      "Epoch 15/20\n",
      "811/811 [==============================] - 11s 14ms/step - loss: 3.0839 - accuracy: 0.6693 - val_loss: 9.8242 - val_accuracy: 0.0593\n",
      "Epoch 16/20\n",
      "811/811 [==============================] - 12s 14ms/step - loss: 3.0668 - accuracy: 0.6717 - val_loss: 9.9645 - val_accuracy: 0.0584\n",
      "Epoch 17/20\n",
      "811/811 [==============================] - 11s 14ms/step - loss: 3.0607 - accuracy: 0.6730 - val_loss: 9.8908 - val_accuracy: 0.0599\n",
      "Epoch 18/20\n",
      "811/811 [==============================] - 11s 14ms/step - loss: 3.0526 - accuracy: 0.6749 - val_loss: 9.7946 - val_accuracy: 0.0586\n",
      "Epoch 19/20\n",
      "811/811 [==============================] - 11s 14ms/step - loss: 3.0430 - accuracy: 0.6759 - val_loss: 9.9816 - val_accuracy: 0.0560\n",
      "Epoch 20/20\n",
      "811/811 [==============================] - 11s 14ms/step - loss: 3.0387 - accuracy: 0.6775 - val_loss: 9.9155 - val_accuracy: 0.0562\n"
     ]
    }
   ],
   "source": [
    "optimizer = RMSprop(lr=0.01)\n",
    "model.compile(loss='categorical_crossentropy', optimizer=optimizer, metrics=['accuracy'])\n",
    "history = model.fit(X, Y, validation_split=0.05, batch_size=128, epochs=20, shuffle=True).history"
   ]
  },
  {
   "cell_type": "code",
   "execution_count": 29,
   "metadata": {
    "colab": {
     "base_uri": "https://localhost:8080/"
    },
    "id": "bWAzwnLQYDRc",
    "outputId": "f47751dd-9a1a-4c7f-95f4-7da52e71acff"
   },
   "outputs": [
    {
     "data": {
      "text/plain": [
       "dict_keys(['loss', 'accuracy', 'val_loss', 'val_accuracy'])"
      ]
     },
     "execution_count": 29,
     "metadata": {
      "tags": []
     },
     "output_type": "execute_result"
    }
   ],
   "source": [
    "history.keys()"
   ]
  },
  {
   "cell_type": "markdown",
   "metadata": {
    "id": "1N2vzUwpTPVF"
   },
   "source": [
    "After successful training, we will save the trained model and just load it back as needed."
   ]
  },
  {
   "cell_type": "code",
   "execution_count": 30,
   "metadata": {
    "id": "VAmhSpn0TPVF"
   },
   "outputs": [],
   "source": [
    "model.save('keras_next_word_model.h5')\n",
    "pickle.dump(history, open(\"history.p\", \"wb\"))"
   ]
  },
  {
   "cell_type": "code",
   "execution_count": 31,
   "metadata": {
    "id": "wkYy7HhfTPVG"
   },
   "outputs": [],
   "source": [
    "model = load_model('keras_next_word_model.h5')\n",
    "history = pickle.load(open(\"history.p\", \"rb\"))"
   ]
  },
  {
   "cell_type": "markdown",
   "metadata": {
    "id": "mgMf3QiVTPVG"
   },
   "source": [
    "### Evaluating \n",
    "\n",
    "The model outputs the training evaluation result after successful training, also we can access these evaluations from the history variable.\n",
    "\n",
    "Now let’s have a quick look at how our model is going to behave based on its accuracy and loss"
   ]
  },
  {
   "cell_type": "code",
   "execution_count": 32,
   "metadata": {
    "colab": {
     "base_uri": "https://localhost:8080/",
     "height": 312
    },
    "id": "vI3fRwFlTPVH",
    "outputId": "aeef3eb6-7ba9-497c-8c36-3ff6483a0a4d"
   },
   "outputs": [
    {
     "data": {
      "text/plain": [
       "<matplotlib.legend.Legend at 0x7f1286b160d0>"
      ]
     },
     "execution_count": 32,
     "metadata": {
      "tags": []
     },
     "output_type": "execute_result"
    },
    {
     "data": {
      "image/png": "[encoded data removed]",
      "text/plain": [
       "<Figure size 432x288 with 1 Axes>"
      ]
     },
     "metadata": {
      "needs_background": "light",
      "tags": []
     },
     "output_type": "display_data"
    }
   ],
   "source": [
    "plt.plot(history['accuracy'])\n",
    "plt.plot(history['val_accuracy'])\n",
    "plt.title('model accuracy')\n",
    "plt.ylabel('accuracy')\n",
    "plt.xlabel('epoch')\n",
    "plt.legend(['train', 'test'], loc='upper left')"
   ]
  },
  {
   "cell_type": "code",
   "execution_count": 33,
   "metadata": {
    "colab": {
     "base_uri": "https://localhost:8080/",
     "height": 312
    },
    "id": "yp1jeuxyTPVH",
    "outputId": "a5800ab2-af27-453c-8ca4-a7823eac3b4a"
   },
   "outputs": [
    {
     "data": {
      "text/plain": [
       "<matplotlib.legend.Legend at 0x7f1286a3f110>"
      ]
     },
     "execution_count": 33,
     "metadata": {
      "tags": []
     },
     "output_type": "execute_result"
    },
    {
     "data": {
      "image/png": "[encoded data removed]",
      "text/plain": [
       "<Figure size 432x288 with 1 Axes>"
      ]
     },
     "metadata": {
      "needs_background": "light",
      "tags": []
     },
     "output_type": "display_data"
    }
   ],
   "source": [
    "plt.plot(history['loss'])\n",
    "plt.plot(history['val_loss'])\n",
    "plt.title('model loss')\n",
    "plt.ylabel('loss')\n",
    "plt.xlabel('epoch')\n",
    "plt.legend(['train', 'test'], loc='upper left')"
   ]
  },
  {
   "cell_type": "markdown",
   "metadata": {
    "id": "QBQL0vzdTPVI"
   },
   "source": [
    "### Prediction\n",
    "\n",
    "Now, we need to predict new words using this model. To do that we input the sample as a feature vector. We convert the input string to a single feature vector.\n",
    "* Make sure we use a `lower()` function while giving input "
   ]
  },
  {
   "cell_type": "code",
   "execution_count": 60,
   "metadata": {
    "id": "JH4OyqHWTPVL"
   },
   "outputs": [],
   "source": [
    "def prepare_input(text):\n",
    "    x = np.zeros((1, WORD_LENGTH, len(unique_words)))\n",
    "    for t, word in enumerate(text.split()):\n",
    "        print(word)\n",
    "        x[0, t, unique_word_index[word]] = 1\n",
    "    return x"
   ]
  },
  {
   "cell_type": "code",
   "execution_count": 61,
   "metadata": {
    "colab": {
     "base_uri": "https://localhost:8080/"
    },
    "id": "kNn00BvyTPVM",
    "outputId": "bee109e6-4a11-4bc3-c3c9-d3c08bf4fecb"
   },
   "outputs": [
    {
     "name": "stdout",
     "output_type": "stream",
     "text": [
      "it\n",
      "is\n",
      "not\n",
      "a\n",
      "lack\n"
     ]
    },
    {
     "data": {
      "text/plain": [
       "array([[[0., 0., 0., ..., 0., 0., 0.],\n",
       "        [0., 0., 0., ..., 0., 0., 0.],\n",
       "        [0., 0., 0., ..., 0., 0., 0.],\n",
       "        [0., 0., 0., ..., 0., 0., 0.],\n",
       "        [0., 0., 0., ..., 0., 0., 0.]]])"
      ]
     },
     "execution_count": 61,
     "metadata": {
      "tags": []
     },
     "output_type": "execute_result"
    }
   ],
   "source": [
    "prepare_input(\"It is not a lack\".lower())"
   ]
  },
  {
   "cell_type": "markdown",
   "metadata": {
    "id": "vYye1SWHTPVM"
   },
   "source": [
    "To choose the best possible `n` words after the prediction from the model is done by sample function."
   ]
  },
  {
   "cell_type": "code",
   "execution_count": 62,
   "metadata": {
    "id": "-8dnabaqTPVN"
   },
   "outputs": [],
   "source": [
    "def sample(preds, top_n=3):\n",
    "    preds = np.asarray(preds).astype('float64')\n",
    "    preds = np.log(preds)\n",
    "    exp_preds = np.exp(preds)\n",
    "    preds = exp_preds / np.sum(exp_preds)\n",
    "\n",
    "    return heapq.nlargest(top_n, range(len(preds)), preds.take)"
   ]
  },
  {
   "cell_type": "markdown",
   "metadata": {},
   "source": [
    "Finally, for prediction, we use the function `predict_completions` which use the model to predict and return the list of `n` predicted words."
   ]
  },
  {
   "cell_type": "code",
   "execution_count": 64,
   "metadata": {
    "id": "jGGys94mTPVO"
   },
   "outputs": [],
   "source": [
    "# Function for next word prediction:\n",
    "\n",
    "def predict_completions(text, n=3):\n",
    "    if text == \"\":\n",
    "        return(\"0\")\n",
    "    x = prepare_input(text)\n",
    "    preds = model.predict(x, verbose=0)[0]\n",
    "    next_indices = sample(preds, n)\n",
    "    return [unique_words[idx] for idx in next_indices]"
   ]
  },
  {
   "cell_type": "markdown",
   "metadata": {
    "id": "WsEbClPJTPVP"
   },
   "source": [
    "Now let’s see how it predicts, we use `tokenizer.tokenize` to remove the punctuations and also we choose `5` first words because our predicts base on `5` previous words."
   ]
  },
  {
   "cell_type": "code",
   "execution_count": 68,
   "metadata": {
    "colab": {
     "base_uri": "https://localhost:8080/"
    },
    "id": "wK8h5weQVh2m",
    "outputId": "6edb9eed-6324-432b-f711-0c4cbb255da3"
   },
   "outputs": [
    {
     "name": "stdout",
     "output_type": "stream",
     "text": [
      "correct sentence:  Your life will never be the same again\n",
      "Sequence:  your life will never be\n",
      "your\n",
      "life\n",
      "will\n",
      "never\n",
      "be\n",
      "next possible words:  ['so', 'which', 'any', 'found', 'left']\n"
     ]
    }
   ],
   "source": [
    "q =  \"Your life will never be the same again\"\n",
    "print(\"correct sentence: \",q)\n",
    "seq = \" \".join(tokenizer.tokenize(q.lower())[0:5])\n",
    "print(\"Sequence: \",seq)\n",
    "print(\"next possible words: \", predict_completions(seq, 5))"
   ]
  },
  {
   "cell_type": "markdown",
   "metadata": {},
   "source": [
    "### Drawbacks\n",
    "\n",
    "Here while preparing unique words we only collected unique words from the input dataset, not from the English dictionary. So many got omitted because of this reason. ( To create such a large input set (English dictionary contains ~23000 words as per nltk we need to perform **Batch processing**)"
   ]
  },
  {
   "cell_type": "code",
   "execution_count": null,
   "metadata": {},
   "outputs": [],
   "source": []
  }
 ],
 "metadata": {
  "accelerator": "GPU",
  "colab": {
   "collapsed_sections": [],
   "name": "3.Next Word Prediction .ipynb",
   "provenance": []
  },
  "kernelspec": {
   "display_name": "Python 3",
   "language": "python",
   "name": "python3"
  },
  "language_info": {
   "codemirror_mode": {
    "name": "ipython",
    "version": 3
   },
   "file_extension": ".py",
   "mimetype": "text/x-python",
   "name": "python",
   "nbconvert_exporter": "python",
   "pygments_lexer": "ipython3",
   "version": "3.7.6"
  }
 },
 "nbformat": 4,
 "nbformat_minor": 1
}
